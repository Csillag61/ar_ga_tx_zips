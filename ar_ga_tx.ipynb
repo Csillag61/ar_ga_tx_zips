{
 "cells": [
  {
   "cell_type": "markdown",
   "metadata": {},
   "source": [
    "### SENSUS API for zipcode: https://api.census.gov/data/2020/acs/acs5?get=NAME,group(B19013)&for=zip%20code%20tabulation%20area:*\n",
    "\n",
    "### how to zip: https://www2.census.gov/data/api-documentation/how-to-download-all-zip-code-tabulation-areas-from-the-census-api.pdf\n",
    "\n",
    "### https://api.census.gov/data/2020/\n",
    "\n",
    "### https://www.census.gov/data/developers/data-sets/popest-popproj/popest.html\n",
    "\n",
    "### how to get pop data with census api: https://api.census.gov/data/2021/pep/population?get=DENSITY_2021,POP_2021,NAME,STATE&for=region:*&key=YOUR_KEY\n",
    "\n",
    "### https://www.census.gov/geographies/reference-files/time-series/geo/gazetteer-files.2021.html#list-tab-6MPRXXDBDK2UUWTSHX\n",
    "\n",
    "### https://data.census.gov/table?g=0400000US48\n",
    "\n",
    "### https://gist.githubusercontent.com/erichurst/7882666/raw/5bdc46db47d9515269ab12ed6fb2850377fd869e/US%2520Zip%2520Codes%2520from%25202013%2520Government%2520Data\n"
   ]
  },
  {
   "cell_type": "code",
   "execution_count": 1,
   "metadata": {},
   "outputs": [],
   "source": [
    "import pandas as pd\n",
    "texas_zips=pd.read_csv('./texas_zips.csv')"
   ]
  },
  {
   "cell_type": "code",
   "execution_count": 2,
   "metadata": {},
   "outputs": [
    {
     "name": "stdout",
     "output_type": "stream",
     "text": [
      "<class 'pandas.core.frame.DataFrame'>\n",
      "RangeIndex: 1740 entries, 0 to 1739\n",
      "Data columns (total 5 columns):\n",
      " #   Column      Non-Null Count  Dtype \n",
      "---  ------      --------------  ----- \n",
      " 0   zip         1740 non-null   int64 \n",
      " 1   population  1740 non-null   int64 \n",
      " 2   city        1740 non-null   object\n",
      " 3   county      1740 non-null   object\n",
      " 4   state       1740 non-null   object\n",
      "dtypes: int64(2), object(3)\n",
      "memory usage: 68.1+ KB\n"
     ]
    }
   ],
   "source": [
    "texas_zips.info()"
   ]
  },
  {
   "cell_type": "code",
   "execution_count": 3,
   "metadata": {},
   "outputs": [
    {
     "data": {
      "text/plain": [
       "(1740, 5)"
      ]
     },
     "execution_count": 3,
     "metadata": {},
     "output_type": "execute_result"
    }
   ],
   "source": [
    "texas_zips.shape"
   ]
  },
  {
   "cell_type": "code",
   "execution_count": 4,
   "metadata": {},
   "outputs": [
    {
     "data": {
      "text/html": [
       "<div>\n",
       "<style scoped>\n",
       "    .dataframe tbody tr th:only-of-type {\n",
       "        vertical-align: middle;\n",
       "    }\n",
       "\n",
       "    .dataframe tbody tr th {\n",
       "        vertical-align: top;\n",
       "    }\n",
       "\n",
       "    .dataframe thead th {\n",
       "        text-align: right;\n",
       "    }\n",
       "</style>\n",
       "<table border=\"1\" class=\"dataframe\">\n",
       "  <thead>\n",
       "    <tr style=\"text-align: right;\">\n",
       "      <th></th>\n",
       "      <th>zip</th>\n",
       "      <th>population</th>\n",
       "    </tr>\n",
       "  </thead>\n",
       "  <tbody>\n",
       "    <tr>\n",
       "      <th>count</th>\n",
       "      <td>1740.000000</td>\n",
       "      <td>1740.000000</td>\n",
       "    </tr>\n",
       "    <tr>\n",
       "      <th>mean</th>\n",
       "      <td>77334.381609</td>\n",
       "      <td>16352.478736</td>\n",
       "    </tr>\n",
       "    <tr>\n",
       "      <th>std</th>\n",
       "      <td>1408.568784</td>\n",
       "      <td>19611.434497</td>\n",
       "    </tr>\n",
       "    <tr>\n",
       "      <th>min</th>\n",
       "      <td>75001.000000</td>\n",
       "      <td>201.000000</td>\n",
       "    </tr>\n",
       "    <tr>\n",
       "      <th>25%</th>\n",
       "      <td>76086.750000</td>\n",
       "      <td>1797.000000</td>\n",
       "    </tr>\n",
       "    <tr>\n",
       "      <th>50%</th>\n",
       "      <td>77383.000000</td>\n",
       "      <td>7806.500000</td>\n",
       "    </tr>\n",
       "    <tr>\n",
       "      <th>75%</th>\n",
       "      <td>78564.500000</td>\n",
       "      <td>26119.000000</td>\n",
       "    </tr>\n",
       "    <tr>\n",
       "      <th>max</th>\n",
       "      <td>79938.000000</td>\n",
       "      <td>126310.000000</td>\n",
       "    </tr>\n",
       "  </tbody>\n",
       "</table>\n",
       "</div>"
      ],
      "text/plain": [
       "                zip     population\n",
       "count   1740.000000    1740.000000\n",
       "mean   77334.381609   16352.478736\n",
       "std     1408.568784   19611.434497\n",
       "min    75001.000000     201.000000\n",
       "25%    76086.750000    1797.000000\n",
       "50%    77383.000000    7806.500000\n",
       "75%    78564.500000   26119.000000\n",
       "max    79938.000000  126310.000000"
      ]
     },
     "execution_count": 4,
     "metadata": {},
     "output_type": "execute_result"
    }
   ],
   "source": [
    "texas_zips.describe()"
   ]
  },
  {
   "cell_type": "code",
   "execution_count": 5,
   "metadata": {},
   "outputs": [
    {
     "data": {
      "text/html": [
       "<div>\n",
       "<style scoped>\n",
       "    .dataframe tbody tr th:only-of-type {\n",
       "        vertical-align: middle;\n",
       "    }\n",
       "\n",
       "    .dataframe tbody tr th {\n",
       "        vertical-align: top;\n",
       "    }\n",
       "\n",
       "    .dataframe thead th {\n",
       "        text-align: right;\n",
       "    }\n",
       "</style>\n",
       "<table border=\"1\" class=\"dataframe\">\n",
       "  <thead>\n",
       "    <tr style=\"text-align: right;\">\n",
       "      <th></th>\n",
       "      <th>zip</th>\n",
       "      <th>population</th>\n",
       "      <th>city</th>\n",
       "      <th>county</th>\n",
       "      <th>state</th>\n",
       "    </tr>\n",
       "  </thead>\n",
       "  <tbody>\n",
       "    <tr>\n",
       "      <th>0</th>\n",
       "      <td>77494</td>\n",
       "      <td>126310</td>\n",
       "      <td>Katy</td>\n",
       "      <td>Fort Bend</td>\n",
       "      <td>TX</td>\n",
       "    </tr>\n",
       "    <tr>\n",
       "      <th>1</th>\n",
       "      <td>77449</td>\n",
       "      <td>123157</td>\n",
       "      <td>Katy</td>\n",
       "      <td>Harris</td>\n",
       "      <td>TX</td>\n",
       "    </tr>\n",
       "    <tr>\n",
       "      <th>2</th>\n",
       "      <td>75034</td>\n",
       "      <td>116155</td>\n",
       "      <td>Frisco</td>\n",
       "      <td>Collin</td>\n",
       "      <td>TX</td>\n",
       "    </tr>\n",
       "    <tr>\n",
       "      <th>3</th>\n",
       "      <td>75070</td>\n",
       "      <td>109085</td>\n",
       "      <td>McKinney</td>\n",
       "      <td>Collin</td>\n",
       "      <td>TX</td>\n",
       "    </tr>\n",
       "    <tr>\n",
       "      <th>4</th>\n",
       "      <td>79936</td>\n",
       "      <td>108668</td>\n",
       "      <td>El Paso</td>\n",
       "      <td>El Paso</td>\n",
       "      <td>TX</td>\n",
       "    </tr>\n",
       "  </tbody>\n",
       "</table>\n",
       "</div>"
      ],
      "text/plain": [
       "     zip  population      city     county state\n",
       "0  77494      126310      Katy  Fort Bend    TX\n",
       "1  77449      123157      Katy     Harris    TX\n",
       "2  75034      116155    Frisco     Collin    TX\n",
       "3  75070      109085  McKinney     Collin    TX\n",
       "4  79936      108668   El Paso    El Paso    TX"
      ]
     },
     "execution_count": 5,
     "metadata": {},
     "output_type": "execute_result"
    }
   ],
   "source": [
    "texas_zips.head()"
   ]
  },
  {
   "cell_type": "code",
   "execution_count": 6,
   "metadata": {},
   "outputs": [],
   "source": [
    "arkansas_zips=pd.read_csv('./arkansas_zips.csv')"
   ]
  },
  {
   "cell_type": "code",
   "execution_count": 7,
   "metadata": {},
   "outputs": [
    {
     "name": "stdout",
     "output_type": "stream",
     "text": [
      "<class 'pandas.core.frame.DataFrame'>\n",
      "RangeIndex: 511 entries, 0 to 510\n",
      "Data columns (total 5 columns):\n",
      " #   Column      Non-Null Count  Dtype \n",
      "---  ------      --------------  ----- \n",
      " 0   zip         511 non-null    int64 \n",
      " 1   population  511 non-null    int64 \n",
      " 2   city        511 non-null    object\n",
      " 3   county      511 non-null    object\n",
      " 4   state       511 non-null    object\n",
      "dtypes: int64(2), object(3)\n",
      "memory usage: 20.1+ KB\n"
     ]
    }
   ],
   "source": [
    "arkansas_zips.info()"
   ]
  },
  {
   "cell_type": "code",
   "execution_count": 8,
   "metadata": {},
   "outputs": [
    {
     "data": {
      "text/plain": [
       "(511, 5)"
      ]
     },
     "execution_count": 8,
     "metadata": {},
     "output_type": "execute_result"
    }
   ],
   "source": [
    "arkansas_zips.shape"
   ]
  },
  {
   "cell_type": "code",
   "execution_count": 9,
   "metadata": {},
   "outputs": [
    {
     "data": {
      "text/html": [
       "<div>\n",
       "<style scoped>\n",
       "    .dataframe tbody tr th:only-of-type {\n",
       "        vertical-align: middle;\n",
       "    }\n",
       "\n",
       "    .dataframe tbody tr th {\n",
       "        vertical-align: top;\n",
       "    }\n",
       "\n",
       "    .dataframe thead th {\n",
       "        text-align: right;\n",
       "    }\n",
       "</style>\n",
       "<table border=\"1\" class=\"dataframe\">\n",
       "  <thead>\n",
       "    <tr style=\"text-align: right;\">\n",
       "      <th></th>\n",
       "      <th>zip</th>\n",
       "      <th>population</th>\n",
       "    </tr>\n",
       "  </thead>\n",
       "  <tbody>\n",
       "    <tr>\n",
       "      <th>count</th>\n",
       "      <td>511.000000</td>\n",
       "      <td>511.000000</td>\n",
       "    </tr>\n",
       "    <tr>\n",
       "      <th>mean</th>\n",
       "      <td>72311.189824</td>\n",
       "      <td>5825.868885</td>\n",
       "    </tr>\n",
       "    <tr>\n",
       "      <th>std</th>\n",
       "      <td>378.212982</td>\n",
       "      <td>9640.944451</td>\n",
       "    </tr>\n",
       "    <tr>\n",
       "      <th>min</th>\n",
       "      <td>71601.000000</td>\n",
       "      <td>202.000000</td>\n",
       "    </tr>\n",
       "    <tr>\n",
       "      <th>25%</th>\n",
       "      <td>72016.500000</td>\n",
       "      <td>727.500000</td>\n",
       "    </tr>\n",
       "    <tr>\n",
       "      <th>50%</th>\n",
       "      <td>72355.000000</td>\n",
       "      <td>1939.000000</td>\n",
       "    </tr>\n",
       "    <tr>\n",
       "      <th>75%</th>\n",
       "      <td>72629.500000</td>\n",
       "      <td>5325.000000</td>\n",
       "    </tr>\n",
       "    <tr>\n",
       "      <th>max</th>\n",
       "      <td>72959.000000</td>\n",
       "      <td>60096.000000</td>\n",
       "    </tr>\n",
       "  </tbody>\n",
       "</table>\n",
       "</div>"
      ],
      "text/plain": [
       "                zip    population\n",
       "count    511.000000    511.000000\n",
       "mean   72311.189824   5825.868885\n",
       "std      378.212982   9640.944451\n",
       "min    71601.000000    202.000000\n",
       "25%    72016.500000    727.500000\n",
       "50%    72355.000000   1939.000000\n",
       "75%    72629.500000   5325.000000\n",
       "max    72959.000000  60096.000000"
      ]
     },
     "execution_count": 9,
     "metadata": {},
     "output_type": "execute_result"
    }
   ],
   "source": [
    "arkansas_zips.describe()"
   ]
  },
  {
   "cell_type": "code",
   "execution_count": 10,
   "metadata": {},
   "outputs": [
    {
     "data": {
      "text/html": [
       "<div>\n",
       "<style scoped>\n",
       "    .dataframe tbody tr th:only-of-type {\n",
       "        vertical-align: middle;\n",
       "    }\n",
       "\n",
       "    .dataframe tbody tr th {\n",
       "        vertical-align: top;\n",
       "    }\n",
       "\n",
       "    .dataframe thead th {\n",
       "        text-align: right;\n",
       "    }\n",
       "</style>\n",
       "<table border=\"1\" class=\"dataframe\">\n",
       "  <thead>\n",
       "    <tr style=\"text-align: right;\">\n",
       "      <th></th>\n",
       "      <th>zip</th>\n",
       "      <th>population</th>\n",
       "      <th>city</th>\n",
       "      <th>county</th>\n",
       "      <th>state</th>\n",
       "    </tr>\n",
       "  </thead>\n",
       "  <tbody>\n",
       "    <tr>\n",
       "      <th>0</th>\n",
       "      <td>72712</td>\n",
       "      <td>60096</td>\n",
       "      <td>Bentonville</td>\n",
       "      <td>Benton</td>\n",
       "      <td>AR</td>\n",
       "    </tr>\n",
       "    <tr>\n",
       "      <th>1</th>\n",
       "      <td>72401</td>\n",
       "      <td>59098</td>\n",
       "      <td>Jonesboro</td>\n",
       "      <td>Craighead</td>\n",
       "      <td>AR</td>\n",
       "    </tr>\n",
       "    <tr>\n",
       "      <th>2</th>\n",
       "      <td>72764</td>\n",
       "      <td>57561</td>\n",
       "      <td>Springdale</td>\n",
       "      <td>Washington</td>\n",
       "      <td>AR</td>\n",
       "    </tr>\n",
       "    <tr>\n",
       "      <th>3</th>\n",
       "      <td>72034</td>\n",
       "      <td>50619</td>\n",
       "      <td>Conway</td>\n",
       "      <td>Faulkner</td>\n",
       "      <td>AR</td>\n",
       "    </tr>\n",
       "    <tr>\n",
       "      <th>4</th>\n",
       "      <td>71913</td>\n",
       "      <td>47190</td>\n",
       "      <td>Hot Springs National Park</td>\n",
       "      <td>Garland</td>\n",
       "      <td>AR</td>\n",
       "    </tr>\n",
       "  </tbody>\n",
       "</table>\n",
       "</div>"
      ],
      "text/plain": [
       "     zip  population                       city      county state\n",
       "0  72712       60096                Bentonville      Benton    AR\n",
       "1  72401       59098                  Jonesboro   Craighead    AR\n",
       "2  72764       57561                 Springdale  Washington    AR\n",
       "3  72034       50619                     Conway    Faulkner    AR\n",
       "4  71913       47190  Hot Springs National Park     Garland    AR"
      ]
     },
     "execution_count": 10,
     "metadata": {},
     "output_type": "execute_result"
    }
   ],
   "source": [
    "arkansas_zips.head()"
   ]
  },
  {
   "cell_type": "code",
   "execution_count": 11,
   "metadata": {},
   "outputs": [],
   "source": [
    "georgia_zips=pd.read_csv('./georga_zips.csv')"
   ]
  },
  {
   "cell_type": "code",
   "execution_count": 12,
   "metadata": {},
   "outputs": [
    {
     "name": "stdout",
     "output_type": "stream",
     "text": [
      "<class 'pandas.core.frame.DataFrame'>\n",
      "RangeIndex: 662 entries, 0 to 661\n",
      "Data columns (total 5 columns):\n",
      " #   Column      Non-Null Count  Dtype \n",
      "---  ------      --------------  ----- \n",
      " 0   zip         662 non-null    int64 \n",
      " 1   population  662 non-null    int64 \n",
      " 2   city        662 non-null    object\n",
      " 3   county      662 non-null    object\n",
      " 4   state       662 non-null    object\n",
      "dtypes: int64(2), object(3)\n",
      "memory usage: 26.0+ KB\n"
     ]
    }
   ],
   "source": [
    "georgia_zips.info()"
   ]
  },
  {
   "cell_type": "code",
   "execution_count": 13,
   "metadata": {},
   "outputs": [
    {
     "data": {
      "text/plain": [
       "(662, 5)"
      ]
     },
     "execution_count": 13,
     "metadata": {},
     "output_type": "execute_result"
    }
   ],
   "source": [
    "georgia_zips.shape"
   ]
  },
  {
   "cell_type": "code",
   "execution_count": 14,
   "metadata": {},
   "outputs": [
    {
     "data": {
      "text/html": [
       "<div>\n",
       "<style scoped>\n",
       "    .dataframe tbody tr th:only-of-type {\n",
       "        vertical-align: middle;\n",
       "    }\n",
       "\n",
       "    .dataframe tbody tr th {\n",
       "        vertical-align: top;\n",
       "    }\n",
       "\n",
       "    .dataframe thead th {\n",
       "        text-align: right;\n",
       "    }\n",
       "</style>\n",
       "<table border=\"1\" class=\"dataframe\">\n",
       "  <thead>\n",
       "    <tr style=\"text-align: right;\">\n",
       "      <th></th>\n",
       "      <th>zip</th>\n",
       "      <th>population</th>\n",
       "    </tr>\n",
       "  </thead>\n",
       "  <tbody>\n",
       "    <tr>\n",
       "      <th>count</th>\n",
       "      <td>662.000000</td>\n",
       "      <td>662.000000</td>\n",
       "    </tr>\n",
       "    <tr>\n",
       "      <th>mean</th>\n",
       "      <td>30818.259819</td>\n",
       "      <td>15640.709970</td>\n",
       "    </tr>\n",
       "    <tr>\n",
       "      <th>std</th>\n",
       "      <td>588.009519</td>\n",
       "      <td>17762.478788</td>\n",
       "    </tr>\n",
       "    <tr>\n",
       "      <th>min</th>\n",
       "      <td>30002.000000</td>\n",
       "      <td>206.000000</td>\n",
       "    </tr>\n",
       "    <tr>\n",
       "      <th>25%</th>\n",
       "      <td>30296.250000</td>\n",
       "      <td>2412.250000</td>\n",
       "    </tr>\n",
       "    <tr>\n",
       "      <th>50%</th>\n",
       "      <td>30667.500000</td>\n",
       "      <td>7601.500000</td>\n",
       "    </tr>\n",
       "    <tr>\n",
       "      <th>75%</th>\n",
       "      <td>31323.750000</td>\n",
       "      <td>24569.000000</td>\n",
       "    </tr>\n",
       "    <tr>\n",
       "      <th>max</th>\n",
       "      <td>31909.000000</td>\n",
       "      <td>93987.000000</td>\n",
       "    </tr>\n",
       "  </tbody>\n",
       "</table>\n",
       "</div>"
      ],
      "text/plain": [
       "                zip    population\n",
       "count    662.000000    662.000000\n",
       "mean   30818.259819  15640.709970\n",
       "std      588.009519  17762.478788\n",
       "min    30002.000000    206.000000\n",
       "25%    30296.250000   2412.250000\n",
       "50%    30667.500000   7601.500000\n",
       "75%    31323.750000  24569.000000\n",
       "max    31909.000000  93987.000000"
      ]
     },
     "execution_count": 14,
     "metadata": {},
     "output_type": "execute_result"
    }
   ],
   "source": [
    "georgia_zips.describe()"
   ]
  },
  {
   "cell_type": "code",
   "execution_count": 15,
   "metadata": {},
   "outputs": [
    {
     "data": {
      "text/html": [
       "<div>\n",
       "<style scoped>\n",
       "    .dataframe tbody tr th:only-of-type {\n",
       "        vertical-align: middle;\n",
       "    }\n",
       "\n",
       "    .dataframe tbody tr th {\n",
       "        vertical-align: top;\n",
       "    }\n",
       "\n",
       "    .dataframe thead th {\n",
       "        text-align: right;\n",
       "    }\n",
       "</style>\n",
       "<table border=\"1\" class=\"dataframe\">\n",
       "  <thead>\n",
       "    <tr style=\"text-align: right;\">\n",
       "      <th></th>\n",
       "      <th>zip</th>\n",
       "      <th>population</th>\n",
       "      <th>city</th>\n",
       "      <th>county</th>\n",
       "      <th>state</th>\n",
       "    </tr>\n",
       "  </thead>\n",
       "  <tbody>\n",
       "    <tr>\n",
       "      <th>0</th>\n",
       "      <td>30044</td>\n",
       "      <td>93987</td>\n",
       "      <td>Lawrenceville</td>\n",
       "      <td>Gwinnett</td>\n",
       "      <td>GA</td>\n",
       "    </tr>\n",
       "    <tr>\n",
       "      <th>1</th>\n",
       "      <td>30043</td>\n",
       "      <td>88276</td>\n",
       "      <td>Lawrenceville</td>\n",
       "      <td>Gwinnett</td>\n",
       "      <td>GA</td>\n",
       "    </tr>\n",
       "    <tr>\n",
       "      <th>2</th>\n",
       "      <td>30024</td>\n",
       "      <td>80598</td>\n",
       "      <td>Suwanee</td>\n",
       "      <td>Gwinnett</td>\n",
       "      <td>GA</td>\n",
       "    </tr>\n",
       "    <tr>\n",
       "      <th>3</th>\n",
       "      <td>30349</td>\n",
       "      <td>75647</td>\n",
       "      <td>Atlanta</td>\n",
       "      <td>Fulton</td>\n",
       "      <td>GA</td>\n",
       "    </tr>\n",
       "    <tr>\n",
       "      <th>4</th>\n",
       "      <td>30040</td>\n",
       "      <td>72858</td>\n",
       "      <td>Cumming</td>\n",
       "      <td>Forsyth</td>\n",
       "      <td>GA</td>\n",
       "    </tr>\n",
       "  </tbody>\n",
       "</table>\n",
       "</div>"
      ],
      "text/plain": [
       "     zip  population           city    county state\n",
       "0  30044       93987  Lawrenceville  Gwinnett    GA\n",
       "1  30043       88276  Lawrenceville  Gwinnett    GA\n",
       "2  30024       80598        Suwanee  Gwinnett    GA\n",
       "3  30349       75647        Atlanta    Fulton    GA\n",
       "4  30040       72858        Cumming   Forsyth    GA"
      ]
     },
     "execution_count": 15,
     "metadata": {},
     "output_type": "execute_result"
    }
   ],
   "source": [
    "georgia_zips.head()"
   ]
  },
  {
   "cell_type": "code",
   "execution_count": 16,
   "metadata": {},
   "outputs": [],
   "source": [
    "ar_ga_tx = pd.concat([arkansas_zips, georgia_zips, texas_zips])"
   ]
  },
  {
   "cell_type": "code",
   "execution_count": 17,
   "metadata": {},
   "outputs": [
    {
     "data": {
      "text/plain": [
       "(2913, 5)"
      ]
     },
     "execution_count": 17,
     "metadata": {},
     "output_type": "execute_result"
    }
   ],
   "source": [
    "ar_ga_tx.shape"
   ]
  },
  {
   "cell_type": "code",
   "execution_count": 18,
   "metadata": {},
   "outputs": [
    {
     "data": {
      "text/plain": [
       "(662, 5)"
      ]
     },
     "execution_count": 18,
     "metadata": {},
     "output_type": "execute_result"
    }
   ],
   "source": [
    "georgia_zips.shape"
   ]
  },
  {
   "cell_type": "code",
   "execution_count": 19,
   "metadata": {},
   "outputs": [
    {
     "data": {
      "text/plain": [
       "(1740, 5)"
      ]
     },
     "execution_count": 19,
     "metadata": {},
     "output_type": "execute_result"
    }
   ],
   "source": [
    "texas_zips.shape"
   ]
  },
  {
   "cell_type": "code",
   "execution_count": 20,
   "metadata": {},
   "outputs": [
    {
     "data": {
      "text/plain": [
       "(511, 5)"
      ]
     },
     "execution_count": 20,
     "metadata": {},
     "output_type": "execute_result"
    }
   ],
   "source": [
    "arkansas_zips.shape\n"
   ]
  },
  {
   "cell_type": "code",
   "execution_count": 21,
   "metadata": {},
   "outputs": [
    {
     "data": {
      "text/plain": [
       "2913"
      ]
     },
     "execution_count": 21,
     "metadata": {},
     "output_type": "execute_result"
    }
   ],
   "source": [
    "state_counts=(arkansas_zips.shape[0]+georgia_zips.shape[0]+texas_zips.shape[0])\n",
    "state_counts"
   ]
  },
  {
   "cell_type": "code",
   "execution_count": 22,
   "metadata": {},
   "outputs": [
    {
     "data": {
      "text/plain": [
       "True"
      ]
     },
     "execution_count": 22,
     "metadata": {},
     "output_type": "execute_result"
    }
   ],
   "source": [
    "state_counts == ar_ga_tx.shape[0]"
   ]
  },
  {
   "cell_type": "code",
   "execution_count": 23,
   "metadata": {},
   "outputs": [],
   "source": [
    "all_zips_coords = pd.read_csv('./uszips.csv')"
   ]
  },
  {
   "cell_type": "code",
   "execution_count": 24,
   "metadata": {},
   "outputs": [
    {
     "data": {
      "text/html": [
       "<div>\n",
       "<style scoped>\n",
       "    .dataframe tbody tr th:only-of-type {\n",
       "        vertical-align: middle;\n",
       "    }\n",
       "\n",
       "    .dataframe tbody tr th {\n",
       "        vertical-align: top;\n",
       "    }\n",
       "\n",
       "    .dataframe thead th {\n",
       "        text-align: right;\n",
       "    }\n",
       "</style>\n",
       "<table border=\"1\" class=\"dataframe\">\n",
       "  <thead>\n",
       "    <tr style=\"text-align: right;\">\n",
       "      <th></th>\n",
       "      <th>ZIP,LAT,LNG</th>\n",
       "    </tr>\n",
       "  </thead>\n",
       "  <tbody>\n",
       "    <tr>\n",
       "      <th>0</th>\n",
       "      <td>00601,18.180555, -66.749961</td>\n",
       "    </tr>\n",
       "    <tr>\n",
       "      <th>1</th>\n",
       "      <td>00602,18.361945, -67.175597</td>\n",
       "    </tr>\n",
       "    <tr>\n",
       "      <th>2</th>\n",
       "      <td>00603,18.455183, -67.119887</td>\n",
       "    </tr>\n",
       "    <tr>\n",
       "      <th>3</th>\n",
       "      <td>00606,18.158345, -66.932911</td>\n",
       "    </tr>\n",
       "    <tr>\n",
       "      <th>4</th>\n",
       "      <td>00610,18.295366, -67.125135</td>\n",
       "    </tr>\n",
       "  </tbody>\n",
       "</table>\n",
       "</div>"
      ],
      "text/plain": [
       "                   ZIP,LAT,LNG\n",
       "0  00601,18.180555, -66.749961\n",
       "1  00602,18.361945, -67.175597\n",
       "2  00603,18.455183, -67.119887\n",
       "3  00606,18.158345, -66.932911\n",
       "4  00610,18.295366, -67.125135"
      ]
     },
     "execution_count": 24,
     "metadata": {},
     "output_type": "execute_result"
    }
   ],
   "source": [
    "all_zips_coords.head()"
   ]
  },
  {
   "cell_type": "code",
   "execution_count": 25,
   "metadata": {},
   "outputs": [],
   "source": [
    "all_zips_coords[['zip', 'latitude', 'longitude']]=all_zips_coords['ZIP,LAT,LNG'].str.split(',',3, expand=True)"
   ]
  },
  {
   "cell_type": "code",
   "execution_count": 26,
   "metadata": {},
   "outputs": [
    {
     "data": {
      "text/html": [
       "<div>\n",
       "<style scoped>\n",
       "    .dataframe tbody tr th:only-of-type {\n",
       "        vertical-align: middle;\n",
       "    }\n",
       "\n",
       "    .dataframe tbody tr th {\n",
       "        vertical-align: top;\n",
       "    }\n",
       "\n",
       "    .dataframe thead th {\n",
       "        text-align: right;\n",
       "    }\n",
       "</style>\n",
       "<table border=\"1\" class=\"dataframe\">\n",
       "  <thead>\n",
       "    <tr style=\"text-align: right;\">\n",
       "      <th></th>\n",
       "      <th>ZIP,LAT,LNG</th>\n",
       "      <th>zip</th>\n",
       "      <th>latitude</th>\n",
       "      <th>longitude</th>\n",
       "    </tr>\n",
       "  </thead>\n",
       "  <tbody>\n",
       "    <tr>\n",
       "      <th>0</th>\n",
       "      <td>00601,18.180555, -66.749961</td>\n",
       "      <td>00601</td>\n",
       "      <td>18.180555</td>\n",
       "      <td>-66.749961</td>\n",
       "    </tr>\n",
       "    <tr>\n",
       "      <th>1</th>\n",
       "      <td>00602,18.361945, -67.175597</td>\n",
       "      <td>00602</td>\n",
       "      <td>18.361945</td>\n",
       "      <td>-67.175597</td>\n",
       "    </tr>\n",
       "    <tr>\n",
       "      <th>2</th>\n",
       "      <td>00603,18.455183, -67.119887</td>\n",
       "      <td>00603</td>\n",
       "      <td>18.455183</td>\n",
       "      <td>-67.119887</td>\n",
       "    </tr>\n",
       "    <tr>\n",
       "      <th>3</th>\n",
       "      <td>00606,18.158345, -66.932911</td>\n",
       "      <td>00606</td>\n",
       "      <td>18.158345</td>\n",
       "      <td>-66.932911</td>\n",
       "    </tr>\n",
       "    <tr>\n",
       "      <th>4</th>\n",
       "      <td>00610,18.295366, -67.125135</td>\n",
       "      <td>00610</td>\n",
       "      <td>18.295366</td>\n",
       "      <td>-67.125135</td>\n",
       "    </tr>\n",
       "  </tbody>\n",
       "</table>\n",
       "</div>"
      ],
      "text/plain": [
       "                   ZIP,LAT,LNG    zip   latitude    longitude\n",
       "0  00601,18.180555, -66.749961  00601  18.180555   -66.749961\n",
       "1  00602,18.361945, -67.175597  00602  18.361945   -67.175597\n",
       "2  00603,18.455183, -67.119887  00603  18.455183   -67.119887\n",
       "3  00606,18.158345, -66.932911  00606  18.158345   -66.932911\n",
       "4  00610,18.295366, -67.125135  00610  18.295366   -67.125135"
      ]
     },
     "execution_count": 26,
     "metadata": {},
     "output_type": "execute_result"
    }
   ],
   "source": [
    "all_zips_coords.head()"
   ]
  },
  {
   "cell_type": "code",
   "execution_count": 27,
   "metadata": {},
   "outputs": [],
   "source": [
    "all_zips_coords= all_zips_coords.drop(columns=['ZIP,LAT,LNG'])"
   ]
  },
  {
   "cell_type": "code",
   "execution_count": 28,
   "metadata": {},
   "outputs": [
    {
     "data": {
      "text/html": [
       "<div>\n",
       "<style scoped>\n",
       "    .dataframe tbody tr th:only-of-type {\n",
       "        vertical-align: middle;\n",
       "    }\n",
       "\n",
       "    .dataframe tbody tr th {\n",
       "        vertical-align: top;\n",
       "    }\n",
       "\n",
       "    .dataframe thead th {\n",
       "        text-align: right;\n",
       "    }\n",
       "</style>\n",
       "<table border=\"1\" class=\"dataframe\">\n",
       "  <thead>\n",
       "    <tr style=\"text-align: right;\">\n",
       "      <th></th>\n",
       "      <th>zip</th>\n",
       "      <th>latitude</th>\n",
       "      <th>longitude</th>\n",
       "    </tr>\n",
       "  </thead>\n",
       "  <tbody>\n",
       "    <tr>\n",
       "      <th>0</th>\n",
       "      <td>00601</td>\n",
       "      <td>18.180555</td>\n",
       "      <td>-66.749961</td>\n",
       "    </tr>\n",
       "    <tr>\n",
       "      <th>1</th>\n",
       "      <td>00602</td>\n",
       "      <td>18.361945</td>\n",
       "      <td>-67.175597</td>\n",
       "    </tr>\n",
       "    <tr>\n",
       "      <th>2</th>\n",
       "      <td>00603</td>\n",
       "      <td>18.455183</td>\n",
       "      <td>-67.119887</td>\n",
       "    </tr>\n",
       "    <tr>\n",
       "      <th>3</th>\n",
       "      <td>00606</td>\n",
       "      <td>18.158345</td>\n",
       "      <td>-66.932911</td>\n",
       "    </tr>\n",
       "    <tr>\n",
       "      <th>4</th>\n",
       "      <td>00610</td>\n",
       "      <td>18.295366</td>\n",
       "      <td>-67.125135</td>\n",
       "    </tr>\n",
       "  </tbody>\n",
       "</table>\n",
       "</div>"
      ],
      "text/plain": [
       "     zip   latitude    longitude\n",
       "0  00601  18.180555   -66.749961\n",
       "1  00602  18.361945   -67.175597\n",
       "2  00603  18.455183   -67.119887\n",
       "3  00606  18.158345   -66.932911\n",
       "4  00610  18.295366   -67.125135"
      ]
     },
     "execution_count": 28,
     "metadata": {},
     "output_type": "execute_result"
    }
   ],
   "source": [
    "all_zips_coords.head()"
   ]
  },
  {
   "cell_type": "code",
   "execution_count": 29,
   "metadata": {},
   "outputs": [
    {
     "name": "stdout",
     "output_type": "stream",
     "text": [
      "<class 'pandas.core.frame.DataFrame'>\n",
      "RangeIndex: 33144 entries, 0 to 33143\n",
      "Data columns (total 3 columns):\n",
      " #   Column     Non-Null Count  Dtype \n",
      "---  ------     --------------  ----- \n",
      " 0   zip        33144 non-null  object\n",
      " 1   latitude   33144 non-null  object\n",
      " 2   longitude  33144 non-null  object\n",
      "dtypes: object(3)\n",
      "memory usage: 776.9+ KB\n"
     ]
    }
   ],
   "source": [
    "all_zips_coords.info()"
   ]
  },
  {
   "cell_type": "code",
   "execution_count": 30,
   "metadata": {},
   "outputs": [],
   "source": [
    "all_zips_coords['zip']=all_zips_coords['zip'].astype(str).astype(int)"
   ]
  },
  {
   "cell_type": "code",
   "execution_count": 31,
   "metadata": {},
   "outputs": [],
   "source": [
    "all_zips_coords[['latitude', 'longitude']]=all_zips_coords[['latitude', 'longitude']].astype(str).astype(float)"
   ]
  },
  {
   "cell_type": "code",
   "execution_count": 32,
   "metadata": {},
   "outputs": [
    {
     "name": "stdout",
     "output_type": "stream",
     "text": [
      "<class 'pandas.core.frame.DataFrame'>\n",
      "RangeIndex: 33144 entries, 0 to 33143\n",
      "Data columns (total 3 columns):\n",
      " #   Column     Non-Null Count  Dtype  \n",
      "---  ------     --------------  -----  \n",
      " 0   zip        33144 non-null  int32  \n",
      " 1   latitude   33144 non-null  float64\n",
      " 2   longitude  33144 non-null  float64\n",
      "dtypes: float64(2), int32(1)\n",
      "memory usage: 647.5 KB\n"
     ]
    }
   ],
   "source": [
    "all_zips_coords.info()"
   ]
  },
  {
   "cell_type": "code",
   "execution_count": 33,
   "metadata": {},
   "outputs": [],
   "source": [
    "ar_ga_tx_combined_coo_zip=pd.merge(ar_ga_tx, all_zips_coords, how='left', on='zip')"
   ]
  },
  {
   "cell_type": "code",
   "execution_count": 34,
   "metadata": {},
   "outputs": [
    {
     "name": "stdout",
     "output_type": "stream",
     "text": [
      "<class 'pandas.core.frame.DataFrame'>\n",
      "Int64Index: 2913 entries, 0 to 2912\n",
      "Data columns (total 7 columns):\n",
      " #   Column      Non-Null Count  Dtype  \n",
      "---  ------      --------------  -----  \n",
      " 0   zip         2913 non-null   int64  \n",
      " 1   population  2913 non-null   int64  \n",
      " 2   city        2913 non-null   object \n",
      " 3   county      2913 non-null   object \n",
      " 4   state       2913 non-null   object \n",
      " 5   latitude    2913 non-null   float64\n",
      " 6   longitude   2913 non-null   float64\n",
      "dtypes: float64(2), int64(2), object(3)\n",
      "memory usage: 182.1+ KB\n"
     ]
    }
   ],
   "source": [
    "ar_ga_tx_combined_coo_zip.info()"
   ]
  },
  {
   "cell_type": "code",
   "execution_count": 35,
   "metadata": {},
   "outputs": [
    {
     "data": {
      "text/plain": [
       "True"
      ]
     },
     "execution_count": 35,
     "metadata": {},
     "output_type": "execute_result"
    }
   ],
   "source": [
    "ar_ga_tx_combined_coo_zip.shape[0]==ar_ga_tx.shape[0]"
   ]
  },
  {
   "cell_type": "code",
   "execution_count": 36,
   "metadata": {},
   "outputs": [
    {
     "data": {
      "text/html": [
       "<div>\n",
       "<style scoped>\n",
       "    .dataframe tbody tr th:only-of-type {\n",
       "        vertical-align: middle;\n",
       "    }\n",
       "\n",
       "    .dataframe tbody tr th {\n",
       "        vertical-align: top;\n",
       "    }\n",
       "\n",
       "    .dataframe thead th {\n",
       "        text-align: right;\n",
       "    }\n",
       "</style>\n",
       "<table border=\"1\" class=\"dataframe\">\n",
       "  <thead>\n",
       "    <tr style=\"text-align: right;\">\n",
       "      <th></th>\n",
       "      <th>zip</th>\n",
       "      <th>population</th>\n",
       "      <th>city</th>\n",
       "      <th>county</th>\n",
       "      <th>state</th>\n",
       "      <th>latitude</th>\n",
       "      <th>longitude</th>\n",
       "    </tr>\n",
       "  </thead>\n",
       "  <tbody>\n",
       "    <tr>\n",
       "      <th>0</th>\n",
       "      <td>72712</td>\n",
       "      <td>60096</td>\n",
       "      <td>Bentonville</td>\n",
       "      <td>Benton</td>\n",
       "      <td>AR</td>\n",
       "      <td>36.346567</td>\n",
       "      <td>-94.256280</td>\n",
       "    </tr>\n",
       "    <tr>\n",
       "      <th>1</th>\n",
       "      <td>72401</td>\n",
       "      <td>59098</td>\n",
       "      <td>Jonesboro</td>\n",
       "      <td>Craighead</td>\n",
       "      <td>AR</td>\n",
       "      <td>35.886344</td>\n",
       "      <td>-90.656774</td>\n",
       "    </tr>\n",
       "    <tr>\n",
       "      <th>2</th>\n",
       "      <td>72764</td>\n",
       "      <td>57561</td>\n",
       "      <td>Springdale</td>\n",
       "      <td>Washington</td>\n",
       "      <td>AR</td>\n",
       "      <td>36.175682</td>\n",
       "      <td>-94.060223</td>\n",
       "    </tr>\n",
       "    <tr>\n",
       "      <th>3</th>\n",
       "      <td>72034</td>\n",
       "      <td>50619</td>\n",
       "      <td>Conway</td>\n",
       "      <td>Faulkner</td>\n",
       "      <td>AR</td>\n",
       "      <td>35.049921</td>\n",
       "      <td>-92.486049</td>\n",
       "    </tr>\n",
       "    <tr>\n",
       "      <th>4</th>\n",
       "      <td>71913</td>\n",
       "      <td>47190</td>\n",
       "      <td>Hot Springs National Park</td>\n",
       "      <td>Garland</td>\n",
       "      <td>AR</td>\n",
       "      <td>34.449239</td>\n",
       "      <td>-93.094266</td>\n",
       "    </tr>\n",
       "    <tr>\n",
       "      <th>...</th>\n",
       "      <td>...</td>\n",
       "      <td>...</td>\n",
       "      <td>...</td>\n",
       "      <td>...</td>\n",
       "      <td>...</td>\n",
       "      <td>...</td>\n",
       "      <td>...</td>\n",
       "    </tr>\n",
       "    <tr>\n",
       "      <th>2908</th>\n",
       "      <td>79834</td>\n",
       "      <td>202</td>\n",
       "      <td>Big Bend National Park</td>\n",
       "      <td>Brewster</td>\n",
       "      <td>TX</td>\n",
       "      <td>29.166114</td>\n",
       "      <td>-103.270536</td>\n",
       "    </tr>\n",
       "    <tr>\n",
       "      <th>2909</th>\n",
       "      <td>78545</td>\n",
       "      <td>202</td>\n",
       "      <td>Falcon Heights</td>\n",
       "      <td>Starr</td>\n",
       "      <td>TX</td>\n",
       "      <td>26.587174</td>\n",
       "      <td>-99.119871</td>\n",
       "    </tr>\n",
       "    <tr>\n",
       "      <th>2910</th>\n",
       "      <td>79003</td>\n",
       "      <td>202</td>\n",
       "      <td>Allison</td>\n",
       "      <td>Wheeler</td>\n",
       "      <td>TX</td>\n",
       "      <td>35.581845</td>\n",
       "      <td>-100.068724</td>\n",
       "    </tr>\n",
       "    <tr>\n",
       "      <th>2911</th>\n",
       "      <td>79011</td>\n",
       "      <td>202</td>\n",
       "      <td>Briscoe</td>\n",
       "      <td>Wheeler</td>\n",
       "      <td>TX</td>\n",
       "      <td>35.634220</td>\n",
       "      <td>-100.231976</td>\n",
       "    </tr>\n",
       "    <tr>\n",
       "      <th>2912</th>\n",
       "      <td>75934</td>\n",
       "      <td>201</td>\n",
       "      <td>Camden</td>\n",
       "      <td>Polk</td>\n",
       "      <td>TX</td>\n",
       "      <td>30.894878</td>\n",
       "      <td>-94.759082</td>\n",
       "    </tr>\n",
       "  </tbody>\n",
       "</table>\n",
       "<p>2913 rows × 7 columns</p>\n",
       "</div>"
      ],
      "text/plain": [
       "        zip  population                       city      county state  \\\n",
       "0     72712       60096                Bentonville      Benton    AR   \n",
       "1     72401       59098                  Jonesboro   Craighead    AR   \n",
       "2     72764       57561                 Springdale  Washington    AR   \n",
       "3     72034       50619                     Conway    Faulkner    AR   \n",
       "4     71913       47190  Hot Springs National Park     Garland    AR   \n",
       "...     ...         ...                        ...         ...   ...   \n",
       "2908  79834         202     Big Bend National Park    Brewster    TX   \n",
       "2909  78545         202             Falcon Heights       Starr    TX   \n",
       "2910  79003         202                    Allison     Wheeler    TX   \n",
       "2911  79011         202                    Briscoe     Wheeler    TX   \n",
       "2912  75934         201                     Camden        Polk    TX   \n",
       "\n",
       "       latitude   longitude  \n",
       "0     36.346567  -94.256280  \n",
       "1     35.886344  -90.656774  \n",
       "2     36.175682  -94.060223  \n",
       "3     35.049921  -92.486049  \n",
       "4     34.449239  -93.094266  \n",
       "...         ...         ...  \n",
       "2908  29.166114 -103.270536  \n",
       "2909  26.587174  -99.119871  \n",
       "2910  35.581845 -100.068724  \n",
       "2911  35.634220 -100.231976  \n",
       "2912  30.894878  -94.759082  \n",
       "\n",
       "[2913 rows x 7 columns]"
      ]
     },
     "execution_count": 36,
     "metadata": {},
     "output_type": "execute_result"
    }
   ],
   "source": [
    "ar_ga_tx_combined_coo_zip"
   ]
  },
  {
   "cell_type": "code",
   "execution_count": 37,
   "metadata": {},
   "outputs": [
    {
     "name": "stdout",
     "output_type": "stream",
     "text": [
      "<class 'pandas.core.frame.DataFrame'>\n",
      "Int64Index: 2913 entries, 0 to 2912\n",
      "Data columns (total 7 columns):\n",
      " #   Column      Non-Null Count  Dtype  \n",
      "---  ------      --------------  -----  \n",
      " 0   zip         2913 non-null   int64  \n",
      " 1   population  2913 non-null   int64  \n",
      " 2   city        2913 non-null   object \n",
      " 3   county      2913 non-null   object \n",
      " 4   state       2913 non-null   object \n",
      " 5   latitude    2913 non-null   float64\n",
      " 6   longitude   2913 non-null   float64\n",
      "dtypes: float64(2), int64(2), object(3)\n",
      "memory usage: 182.1+ KB\n"
     ]
    }
   ],
   "source": [
    "ar_ga_tx_combined_coo_zip.info()"
   ]
  },
  {
   "cell_type": "code",
   "execution_count": 38,
   "metadata": {},
   "outputs": [],
   "source": [
    "ar_ga_tx_combined_coo_zip.to_csv('ar_ga_tx_combined_coo_zip.csv')"
   ]
  }
 ],
 "metadata": {
  "kernelspec": {
   "display_name": "Python 3 (ipykernel)",
   "language": "python",
   "name": "python3"
  },
  "language_info": {
   "codemirror_mode": {
    "name": "ipython",
    "version": 3
   },
   "file_extension": ".py",
   "mimetype": "text/x-python",
   "name": "python",
   "nbconvert_exporter": "python",
   "pygments_lexer": "ipython3",
   "version": "3.9.13"
  }
 },
 "nbformat": 4,
 "nbformat_minor": 2
}
